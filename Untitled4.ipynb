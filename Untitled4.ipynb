{
  "nbformat": 4,
  "nbformat_minor": 0,
  "metadata": {
    "colab": {
      "provenance": [],
      "authorship_tag": "ABX9TyOhm7DAxIvacm/zXPL2T2Xp",
      "include_colab_link": true
    },
    "kernelspec": {
      "name": "python3",
      "display_name": "Python 3"
    },
    "language_info": {
      "name": "python"
    }
  },
  "cells": [
    {
      "cell_type": "markdown",
      "metadata": {
        "id": "view-in-github",
        "colab_type": "text"
      },
      "source": [
        "<a href=\"https://colab.research.google.com/github/YousefAbuAli/Prediction-of-Product-Sales/blob/main/Untitled4.ipynb\" target=\"_parent\"><img src=\"https://colab.research.google.com/assets/colab-badge.svg\" alt=\"Open In Colab\"/></a>"
      ]
    },
    {
      "cell_type": "markdown",
      "source": [
        "Prediction of Product Sales"
      ],
      "metadata": {
        "id": "A6LK8vu_kF1T"
      }
    },
    {
      "cell_type": "markdown",
      "source": [
        "Author: yousef abu ali"
      ],
      "metadata": {
        "id": "Uh6_d_wHkH1M"
      }
    },
    {
      "cell_type": "markdown",
      "source": [
        "Load and Inspect Data"
      ],
      "metadata": {
        "id": "m0hSAQz3kKrb"
      }
    },
    {
      "cell_type": "markdown",
      "source": [
        "Clean Data"
      ],
      "metadata": {
        "id": "Ih3RvIj7kODR"
      }
    },
    {
      "cell_type": "markdown",
      "source": [
        "Exploratory Data Analysis"
      ],
      "metadata": {
        "id": "VFOhUQOnkP43"
      }
    },
    {
      "cell_type": "markdown",
      "source": [
        "Feature Inspection"
      ],
      "metadata": {
        "id": "tXLfGpJokU5B"
      }
    }
  ]
}